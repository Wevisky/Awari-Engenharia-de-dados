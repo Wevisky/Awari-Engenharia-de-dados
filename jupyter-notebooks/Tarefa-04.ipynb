{
 "cells": [
  {
   "cell_type": "code",
   "execution_count": null,
   "id": "536e627a-b1de-4fdf-b3b3-f8357a611296",
   "metadata": {},
   "outputs": [],
   "source": [
    "# 1- CRIAR ALGORITMO QUE LISTE TODA A SEQUENCIA DE FIBONACCI ATÉ 100"
   ]
  },
  {
   "cell_type": "code",
   "execution_count": null,
   "id": "46b9c06f-f999-45c8-b9be-0f664a0d0553",
   "metadata": {
    "tags": []
   },
   "outputs": [],
   "source": [
    "def fibonacci(num: int):\n",
    "    a = 0\n",
    "    b = 1\n",
    "    sequencia = [0, 1]\n",
    "\n",
    "    while b <= num:\n",
    "        temp = a + b\n",
    "        a = b\n",
    "        b = temp\n",
    "        if (temp <= num):\n",
    "            sequencia.append(temp)\n",
    "        else:\n",
    "            pass\n",
    "    print(sequencia)\n"
   ]
  },
  {
   "cell_type": "code",
   "execution_count": 26,
   "id": "ee8f1d8e-1ad7-44d8-9494-295336ca210a",
   "metadata": {
    "tags": []
   },
   "outputs": [
    {
     "name": "stdout",
     "output_type": "stream",
     "text": [
      "[0, 1, 1, 2, 3, 5, 8, 13, 21, 34, 55, 89]\n"
     ]
    }
   ],
   "source": [
    "fibonacci(100)"
   ]
  },
  {
   "cell_type": "code",
   "execution_count": 27,
   "id": "f34a18fc-5fec-430c-94cb-53bc9b46cf63",
   "metadata": {},
   "outputs": [],
   "source": [
    "# 2- CRIAR ALGORITMO QUE FAÇA A FATORAÇÃO DO NÚMERO 1024.(Exemplo de fatoração: 6! = 6*5*4*3*2*1)."
   ]
  },
  {
   "cell_type": "code",
   "execution_count": 33,
   "id": "5de80618-3408-441e-a28b-4081f603e23b",
   "metadata": {
    "tags": []
   },
   "outputs": [
    {
     "name": "stdin",
     "output_type": "stream",
     "text": [
      "Informe um número para calcular o fatorial:  1024\n"
     ]
    },
    {
     "name": "stdout",
     "output_type": "stream",
     "text": [
      "541852879605885728307692194468385473800155396353801344448287027068321061207337660373314098413621458671907918845708980753931994165770187368260454133333721939108367528012764993769768292516937891165755680659663747947314518404886677672556125188694335251213677274521963430770133713205796248433128870088436171654690237518390452944732277808402932158722061853806162806063925435310822186848239287130261690914211362251144684713888587881629252104046295315949943900357882410243934315037444113890806181406210863953275235375885018598451582229599654558541242789130902486944298610923153307579131675745146436304024890820442907734561827369030502252796926553072967370990758747793127635104702469889667961462133026237158973227857814631807156427767644064591085076564783456324457736853810336981776080498707767046394272605341416779125697733374568037475186676265961665615884681450263337042522664141862157046825684773360944326737493676674915098953768112945831626643856479027816385730291542667725665642276826058264393884514911976419675509290208592713156362983290989441052732125187249527501314071676405516936190781821236701912295767363117054126589929916482008515781751955466910902838729232224509906388638147771255227782631322385756948819393658889908993670874516860653098411020299853816281564334981847105777839534742531499622103488807584513705769839763993103929665046046121166651345131149513657400869056334867859885025601787284982567787314407216524272262997319791568603629406624740101482697559533155736658800562921274680657285201570401940692285557800611429055755324549794008939849146812639860750085263298820224719585505344773711590656682821041417265040658600683844945104354998812886801316551551714673388323340851763819713591312372548673734783537316341517369387565212899726597964903241208727348690699802996369265070088758384854547542272771024255049902319275830918157448205196421072837204937293516175341957775422453152442280391372407717891661203061040255830055033886790052116025408740454620938384367637886658769912790922323717371343176067483352513629123362885893627132294183565884010418727869354439077085278288558308427090461075019007184933139915558212752392329879780649639075333845719173822840501869570463626600235265587502335595489311637509380219119860471335771652403999403296360245577257963673286654348957325740999710567131623272345766761937651408103999193633908286420510098577454524068106897392493138287362226257920000000000000000000000000000000000000000000000000000000000000000000000000000000000000000000000000000000000000000000000000000000000000000000000000000000000000000000000000000000000000000000000000000000000000000000000000000000000000000000000000000000000000\n"
     ]
    }
   ],
   "source": [
    "num = int(input(\"Informe um número para calcular o fatorial: \"))\n",
    "c = num\n",
    "f = 1\n",
    "while c > 0:\n",
    "    f *= c\n",
    "    c -= 1\n",
    "print(f)  "
   ]
  },
  {
   "cell_type": "code",
   "execution_count": 29,
   "id": "123faea9-54a6-40d7-b11d-7af7a0095a90",
   "metadata": {},
   "outputs": [],
   "source": [
    "# CRIAR UMA LISTA DE FRUTAS (BANANAS, MAÇÃS, PERAS, UVAS, LARANJAS) E FAZER UM ALGORITMO PARA CONSULTAR SE UMA FRUTA EXISTE NA LISTA. CASO NÃO EXISTA, ADICIONAR A NOVA FRUTA. O PROGRAMA SÓ DEVE ENCERRAR A BRINCADEIRA QUANDO O USUÁRIO INFORMAR O NÚMERO 999."
   ]
  },
  {
   "cell_type": "code",
   "execution_count": 32,
   "id": "3ced6ed1-5746-4495-a96b-f46e47283769",
   "metadata": {
    "tags": []
   },
   "outputs": [
    {
     "name": "stdin",
     "output_type": "stream",
     "text": [
      "Digite o nome de uma fruta (ou 999 para sair):  Bananas\n"
     ]
    },
    {
     "name": "stdout",
     "output_type": "stream",
     "text": [
      "A fruta BANANAS já existe na lista!\n"
     ]
    },
    {
     "name": "stdin",
     "output_type": "stream",
     "text": [
      "Digite o nome de uma fruta (ou 999 para sair):  Uvas\n"
     ]
    },
    {
     "name": "stdout",
     "output_type": "stream",
     "text": [
      "A fruta UVAS já existe na lista!\n"
     ]
    },
    {
     "name": "stdin",
     "output_type": "stream",
     "text": [
      "Digite o nome de uma fruta (ou 999 para sair):  Laranjas\n"
     ]
    },
    {
     "name": "stdout",
     "output_type": "stream",
     "text": [
      "A fruta LARANJAS já existe na lista!\n"
     ]
    },
    {
     "name": "stdin",
     "output_type": "stream",
     "text": [
      "Digite o nome de uma fruta (ou 999 para sair):  Peras\n"
     ]
    },
    {
     "name": "stdout",
     "output_type": "stream",
     "text": [
      "A fruta PERAS já existe na lista!\n"
     ]
    },
    {
     "name": "stdin",
     "output_type": "stream",
     "text": [
      "Digite o nome de uma fruta (ou 999 para sair):  Goiaba\n"
     ]
    },
    {
     "name": "stdout",
     "output_type": "stream",
     "text": [
      "A fruta GOIABA foi adicionada à lista!\n"
     ]
    },
    {
     "name": "stdin",
     "output_type": "stream",
     "text": [
      "Digite o nome de uma fruta (ou 999 para sair):  Acerola\n"
     ]
    },
    {
     "name": "stdout",
     "output_type": "stream",
     "text": [
      "A fruta ACEROLA foi adicionada à lista!\n"
     ]
    },
    {
     "name": "stdin",
     "output_type": "stream",
     "text": [
      "Digite o nome de uma fruta (ou 999 para sair):  999\n"
     ]
    },
    {
     "name": "stdout",
     "output_type": "stream",
     "text": [
      "Programa encerrado.\n"
     ]
    }
   ],
   "source": [
    "frutas = [\"BANANAS\", \"MAÇÃS\", \"PERAS\", \"UVAS\", \"LARANJAS\"]\n",
    "\n",
    "while True:\n",
    "    fruta = input(\"Digite o nome de uma fruta (ou 999 para sair): \")\n",
    "    fruta = fruta.upper()\n",
    "\n",
    "    if fruta == \"999\":\n",
    "        break\n",
    "\n",
    "    if fruta in frutas:\n",
    "        print(\"A fruta\", fruta, \"já existe na lista!\")\n",
    "    else:\n",
    "        frutas.append(fruta)\n",
    "        print(\"A fruta\", fruta, \"foi adicionada à lista!\")\n",
    "\n",
    "print(\"Programa encerrado.\")\n"
   ]
  },
  {
   "cell_type": "code",
   "execution_count": null,
   "id": "18e5690a-8336-4753-9562-2180c41ee36c",
   "metadata": {},
   "outputs": [],
   "source": []
  }
 ],
 "metadata": {
  "kernelspec": {
   "display_name": "Python 3 (ipykernel)",
   "language": "python",
   "name": "python3"
  },
  "language_info": {
   "codemirror_mode": {
    "name": "ipython",
    "version": 3
   },
   "file_extension": ".py",
   "mimetype": "text/x-python",
   "name": "python",
   "nbconvert_exporter": "python",
   "pygments_lexer": "ipython3",
   "version": "3.10.9"
  }
 },
 "nbformat": 4,
 "nbformat_minor": 5
}
